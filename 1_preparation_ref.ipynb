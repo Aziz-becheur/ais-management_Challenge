{
 "cells": [
  {
   "cell_type": "code",
   "execution_count": 1,
   "id": "fca6ff5c",
   "metadata": {},
   "outputs": [],
   "source": [
    "import pandas as pd"
   ]
  },
  {
   "cell_type": "code",
   "execution_count": 2,
   "id": "de0de31f",
   "metadata": {},
   "outputs": [],
   "source": [
    "# Load the Excel files\n",
    "reference = pd.read_excel(\"./raw_data/Beispielobjekte.xlsx\", sheet_name=\"Anlagen\")\n"
   ]
  },
  {
   "cell_type": "code",
   "execution_count": 3,
   "id": "18c0b92e",
   "metadata": {},
   "outputs": [
    {
     "name": "stdout",
     "output_type": "stream",
     "text": [
      "<class 'pandas.core.frame.DataFrame'>\n",
      "RangeIndex: 7021 entries, 0 to 7020\n",
      "Data columns (total 14 columns):\n",
      " #   Column                    Non-Null Count  Dtype  \n",
      "---  ------                    --------------  -----  \n",
      " 0   Gebäude-ID                7021 non-null   int64  \n",
      " 1   Anlagentyp                7021 non-null   object \n",
      " 2   Anlagen-ID                7021 non-null   int64  \n",
      " 3   Bauteil der Anlage        1815 non-null   float64\n",
      " 4   Anlagenname               7021 non-null   object \n",
      " 5   Untergewerk-ID            7021 non-null   int64  \n",
      " 6   Untergewerk               7021 non-null   int64  \n",
      " 7   AKS-Bezeichnung           7021 non-null   object \n",
      " 8   Kostengruppe              7021 non-null   int64  \n",
      " 9   Kostengruppenbezeichnung  7021 non-null   object \n",
      " 10  Anzahl                    3054 non-null   float64\n",
      " 11  Hinweis Preisermittlung   850 non-null    object \n",
      " 12  Merkmale                  6464 non-null   object \n",
      " 13  Verbandsnummer            5515 non-null   object \n",
      "dtypes: float64(2), int64(5), object(7)\n",
      "memory usage: 768.1+ KB\n"
     ]
    }
   ],
   "source": [
    "reference.info()"
   ]
  },
  {
   "cell_type": "code",
   "execution_count": 4,
   "id": "4f9d242a",
   "metadata": {},
   "outputs": [
    {
     "data": {
      "text/html": [
       "<div>\n",
       "<style scoped>\n",
       "    .dataframe tbody tr th:only-of-type {\n",
       "        vertical-align: middle;\n",
       "    }\n",
       "\n",
       "    .dataframe tbody tr th {\n",
       "        vertical-align: top;\n",
       "    }\n",
       "\n",
       "    .dataframe thead th {\n",
       "        text-align: right;\n",
       "    }\n",
       "</style>\n",
       "<table border=\"1\" class=\"dataframe\">\n",
       "  <thead>\n",
       "    <tr style=\"text-align: right;\">\n",
       "      <th></th>\n",
       "      <th>Gebäude-ID</th>\n",
       "      <th>Anlagentyp</th>\n",
       "      <th>Anlagen-ID</th>\n",
       "      <th>Bauteil der Anlage</th>\n",
       "      <th>Anlagenname</th>\n",
       "      <th>Untergewerk-ID</th>\n",
       "      <th>Untergewerk</th>\n",
       "      <th>AKS-Bezeichnung</th>\n",
       "      <th>Kostengruppe</th>\n",
       "      <th>Kostengruppenbezeichnung</th>\n",
       "      <th>Anzahl</th>\n",
       "      <th>Hinweis Preisermittlung</th>\n",
       "      <th>Merkmale</th>\n",
       "      <th>Verbandsnummer</th>\n",
       "    </tr>\n",
       "  </thead>\n",
       "  <tbody>\n",
       "    <tr>\n",
       "      <th>0</th>\n",
       "      <td>2026</td>\n",
       "      <td>Anlage</td>\n",
       "      <td>71610</td>\n",
       "      <td>NaN</td>\n",
       "      <td>Kleinkaltwassersatz 109 kW</td>\n",
       "      <td>1246</td>\n",
       "      <td>434</td>\n",
       "      <td>Kompressionskältemaschine</td>\n",
       "      <td>430</td>\n",
       "      <td>Lufttechnische Anlagen</td>\n",
       "      <td>1.0</td>\n",
       "      <td>NaN</td>\n",
       "      <td>Kälteleistung:109 kW; Kältemittel:R410A; Kälte...</td>\n",
       "      <td>434.01.02.000.01.01</td>\n",
       "    </tr>\n",
       "    <tr>\n",
       "      <th>1</th>\n",
       "      <td>2026</td>\n",
       "      <td>Anlage</td>\n",
       "      <td>71611</td>\n",
       "      <td>NaN</td>\n",
       "      <td>Kleinkaltwassersatz 237kW</td>\n",
       "      <td>1246</td>\n",
       "      <td>434</td>\n",
       "      <td>Kompressionskältemaschine</td>\n",
       "      <td>430</td>\n",
       "      <td>Lufttechnische Anlagen</td>\n",
       "      <td>1.0</td>\n",
       "      <td>NaN</td>\n",
       "      <td>Kälteleistung:237 kW; Kältemittel:R410A; Kälte...</td>\n",
       "      <td>434.01.02.000.01.01</td>\n",
       "    </tr>\n",
       "    <tr>\n",
       "      <th>2</th>\n",
       "      <td>2026</td>\n",
       "      <td>Anlage</td>\n",
       "      <td>71612</td>\n",
       "      <td>NaN</td>\n",
       "      <td>Kältenetz Dach - Deckenkühlung &amp; Fancoil</td>\n",
       "      <td>1250</td>\n",
       "      <td>434</td>\n",
       "      <td>Verteilnetz / Pumpen - Kälteerzeugung</td>\n",
       "      <td>430</td>\n",
       "      <td>Lufttechnische Anlagen</td>\n",
       "      <td>1.0</td>\n",
       "      <td>NaN</td>\n",
       "      <td>Anzahl Heizkreise:5 Stk.; Heizkreis (Art):dyna...</td>\n",
       "      <td>434.03.01.000.01.02</td>\n",
       "    </tr>\n",
       "    <tr>\n",
       "      <th>3</th>\n",
       "      <td>2026</td>\n",
       "      <td>Bauteil</td>\n",
       "      <td>71624</td>\n",
       "      <td>71612.0</td>\n",
       "      <td>Ausdehnungsgefäß Dach</td>\n",
       "      <td>1526</td>\n",
       "      <td>434</td>\n",
       "      <td>Verteilnetz / Pumpen - Kälteerzeugung</td>\n",
       "      <td>430</td>\n",
       "      <td>Lufttechnische Anlagen</td>\n",
       "      <td>1.0</td>\n",
       "      <td>NaN</td>\n",
       "      <td>max. zulässiger Betriebsdruck:; Volumen:0,05 m3;</td>\n",
       "      <td>NaN</td>\n",
       "    </tr>\n",
       "    <tr>\n",
       "      <th>4</th>\n",
       "      <td>2026</td>\n",
       "      <td>Bauteil</td>\n",
       "      <td>71613</td>\n",
       "      <td>71612.0</td>\n",
       "      <td>Ausdehnungsgefäß Kälteverteiler 1. OG</td>\n",
       "      <td>1526</td>\n",
       "      <td>434</td>\n",
       "      <td>Verteilnetz / Pumpen - Kälteerzeugung</td>\n",
       "      <td>430</td>\n",
       "      <td>Lufttechnische Anlagen</td>\n",
       "      <td>1.0</td>\n",
       "      <td>NaN</td>\n",
       "      <td>max. zulässiger Betriebsdruck:10 bar; Volumen:...</td>\n",
       "      <td>NaN</td>\n",
       "    </tr>\n",
       "  </tbody>\n",
       "</table>\n",
       "</div>"
      ],
      "text/plain": [
       "   Gebäude-ID Anlagentyp  Anlagen-ID  Bauteil der Anlage  \\\n",
       "0        2026     Anlage       71610                 NaN   \n",
       "1        2026     Anlage       71611                 NaN   \n",
       "2        2026     Anlage       71612                 NaN   \n",
       "3        2026    Bauteil       71624             71612.0   \n",
       "4        2026    Bauteil       71613             71612.0   \n",
       "\n",
       "                                Anlagenname  Untergewerk-ID  Untergewerk  \\\n",
       "0                Kleinkaltwassersatz 109 kW            1246          434   \n",
       "1                 Kleinkaltwassersatz 237kW            1246          434   \n",
       "2  Kältenetz Dach - Deckenkühlung & Fancoil            1250          434   \n",
       "3                     Ausdehnungsgefäß Dach            1526          434   \n",
       "4     Ausdehnungsgefäß Kälteverteiler 1. OG            1526          434   \n",
       "\n",
       "                         AKS-Bezeichnung  Kostengruppe  \\\n",
       "0              Kompressionskältemaschine           430   \n",
       "1              Kompressionskältemaschine           430   \n",
       "2  Verteilnetz / Pumpen - Kälteerzeugung           430   \n",
       "3  Verteilnetz / Pumpen - Kälteerzeugung           430   \n",
       "4  Verteilnetz / Pumpen - Kälteerzeugung           430   \n",
       "\n",
       "  Kostengruppenbezeichnung  Anzahl Hinweis Preisermittlung  \\\n",
       "0   Lufttechnische Anlagen     1.0                     NaN   \n",
       "1   Lufttechnische Anlagen     1.0                     NaN   \n",
       "2   Lufttechnische Anlagen     1.0                     NaN   \n",
       "3   Lufttechnische Anlagen     1.0                     NaN   \n",
       "4   Lufttechnische Anlagen     1.0                     NaN   \n",
       "\n",
       "                                            Merkmale       Verbandsnummer  \n",
       "0  Kälteleistung:109 kW; Kältemittel:R410A; Kälte...  434.01.02.000.01.01  \n",
       "1  Kälteleistung:237 kW; Kältemittel:R410A; Kälte...  434.01.02.000.01.01  \n",
       "2  Anzahl Heizkreise:5 Stk.; Heizkreis (Art):dyna...  434.03.01.000.01.02  \n",
       "3   max. zulässiger Betriebsdruck:; Volumen:0,05 m3;                  NaN  \n",
       "4  max. zulässiger Betriebsdruck:10 bar; Volumen:...                  NaN  "
      ]
     },
     "execution_count": 4,
     "metadata": {},
     "output_type": "execute_result"
    }
   ],
   "source": [
    "reference.head()"
   ]
  },
  {
   "cell_type": "markdown",
   "id": "300d72ad",
   "metadata": {},
   "source": [
    "## Look for dominant columns that can be used for broader categorization:\n",
    "\n",
    "columns that can be used for such a thing are potentially:\n",
    "\n",
    "- Anlagenname\n",
    "- Untergewerk-ID\n",
    "- Untergewerk\n",
    "- AKS-Bezeichnung\n",
    "- Kostengruppenbezeichnung"
   ]
  },
  {
   "cell_type": "code",
   "execution_count": 5,
   "id": "cf4c2668",
   "metadata": {},
   "outputs": [
    {
     "data": {
      "image/png": "[encoded data removed]",
      "text/plain": [
       "<Figure size 640x480 with 1 Axes>"
      ]
     },
     "metadata": {},
     "output_type": "display_data"
    }
   ],
   "source": [
    "import matplotlib.pyplot as plt\n",
    "# Plot the number of unique values for columns Anlagenname, Untergewerk-ID, Untergewerk, AKS-Bezeichnung, Kostengruppenbezeichnung\n",
    "categorizers = reference[['Anlagenname', 'Untergewerk-ID', 'Untergewerk', 'AKS-Bezeichnung', 'Kostengruppenbezeichnung']]\n",
    "categorizers.nunique().plot(kind='bar')\n",
    "plt.title(\"Unique Values in Each Column\")\n",
    "plt.xlabel(\"Columns\")\n",
    "plt.ylabel(\"Number of Unique Values\")\n",
    "plt.show()\n"
   ]
  },
  {
   "cell_type": "markdown",
   "id": "516e4760",
   "metadata": {},
   "source": [
    "# clean the Reference (Beispielobjekte)"
   ]
  },
  {
   "cell_type": "code",
   "execution_count": 6,
   "id": "97baaa7e",
   "metadata": {},
   "outputs": [
    {
     "name": "stdout",
     "output_type": "stream",
     "text": [
      "Unique buildings in Reference:\n",
      "   list: [2026 2021  543 2035 2022 2040 2030 2023 2024 2025  544 2095 2017 2104\n",
      "  545 2027 2037 2038 2031 2032 2033 2036 2020 2039  546 2034 2041 2028\n",
      " 2029 2042 2096 2043]\n",
      "   count: 32\n"
     ]
    }
   ],
   "source": [
    "# see how many unique ids are in the reference\n",
    "unique_buildings_ref = reference['Gebäude-ID'].unique()\n",
    "print(f\"Unique buildings in Reference:\")\n",
    "print(\"   list:\", unique_buildings_ref)\n",
    "print(\"   count:\", len(unique_buildings_ref))"
   ]
  },
  {
   "cell_type": "markdown",
   "id": "ba3c44f4",
   "metadata": {},
   "source": [
    "### organize Beispielobjekte by Gebäude-ID -> each Gebäude has its dataframe -> csv"
   ]
  },
  {
   "cell_type": "code",
   "execution_count": 7,
   "id": "b44c919b",
   "metadata": {},
   "outputs": [
    {
     "name": "stdout",
     "output_type": "stream",
     "text": [
      "Successfully saved.\n"
     ]
    }
   ],
   "source": [
    "for geb_id in unique_buildings_ref:\n",
    "    df = reference[reference['Gebäude-ID'] == geb_id]\n",
    "    df.to_csv(f\"./reference_data/csvs/Beispielobjekte_{geb_id}.csv\", index=False)\n",
    "    \n",
    "print(f\"Successfully saved.\")\n"
   ]
  },
  {
   "cell_type": "markdown",
   "id": "be7d1cf8",
   "metadata": {},
   "source": [
    "## Observation\n",
    "when observing each csv, you will notice that there's two types of Anlagen:\n",
    "- Anlage\n",
    "- Bauteil\n",
    "\n",
    "Anlage(system) is a group of Bauteil(subsystems)"
   ]
  },
  {
   "cell_type": "markdown",
   "id": "e57221bc",
   "metadata": {},
   "source": [
    "### iterate through each Gebäude and create a Dict.\n",
    "\n",
    "This NESTED dict should contain Categories as keys. Values are dicts where there's all the necessary info about that category (sub-category, ids and corresponding Bauteile)"
   ]
  },
  {
   "cell_type": "code",
   "execution_count": 8,
   "id": "434eac0d",
   "metadata": {},
   "outputs": [
    {
     "name": "stdout",
     "output_type": "stream",
     "text": [
      "File: ./reference_data/csvs/Beispielobjekte_2104.csv\n",
      "   OK\n",
      "------------\n",
      "File: ./reference_data/csvs/Beispielobjekte_2039.csv\n",
      "   OK\n",
      "------------\n",
      "File: ./reference_data/csvs/Beispielobjekte_2038.csv\n",
      "   OK\n",
      "------------\n",
      "File: ./reference_data/csvs/Beispielobjekte_2017.csv\n",
      "   OK\n",
      "------------\n",
      "File: ./reference_data/csvs/Beispielobjekte_2028.csv\n",
      "   OK\n",
      "------------\n",
      "File: ./reference_data/csvs/Beispielobjekte_2029.csv\n",
      "   OK\n",
      "------------\n",
      "File: ./reference_data/csvs/Beispielobjekte_2024.csv\n",
      "   OK\n",
      "------------\n",
      "File: ./reference_data/csvs/Beispielobjekte_2030.csv\n",
      "   OK\n",
      "------------\n",
      "File: ./reference_data/csvs/Beispielobjekte_2031.csv\n",
      "   OK\n",
      "------------\n",
      "File: ./reference_data/csvs/Beispielobjekte_2025.csv\n",
      "   OK\n",
      "------------\n",
      "File: ./reference_data/csvs/Beispielobjekte_543.csv\n",
      "   OK\n",
      "------------\n",
      "File: ./reference_data/csvs/Beispielobjekte_2033.csv\n",
      "   OK\n",
      "------------\n",
      "File: ./reference_data/csvs/Beispielobjekte_2027.csv\n",
      "   OK\n",
      "------------\n",
      "File: ./reference_data/csvs/Beispielobjekte_2026.csv\n",
      "   OK\n",
      "------------\n",
      "File: ./reference_data/csvs/Beispielobjekte_2032.csv\n",
      "   OK\n",
      "------------\n",
      "File: ./reference_data/csvs/Beispielobjekte_2036.csv\n",
      "   OK\n",
      "------------\n",
      "File: ./reference_data/csvs/Beispielobjekte_2022.csv\n",
      "   OK\n",
      "------------\n",
      "File: ./reference_data/csvs/Beispielobjekte_544.csv\n",
      "   OK\n",
      "------------\n",
      "File: ./reference_data/csvs/Beispielobjekte_545.csv\n",
      "   OK\n",
      "------------\n",
      "File: ./reference_data/csvs/Beispielobjekte_2023.csv\n",
      "   OK\n",
      "------------\n",
      "File: ./reference_data/csvs/Beispielobjekte_2037.csv\n",
      "   OK\n",
      "------------\n",
      "File: ./reference_data/csvs/Beispielobjekte_2021.csv\n",
      "   OK\n",
      "------------\n",
      "File: ./reference_data/csvs/Beispielobjekte_2035.csv\n",
      "   OK\n",
      "------------\n",
      "File: ./reference_data/csvs/Beispielobjekte_546.csv\n",
      "   OK\n",
      "------------\n",
      "File: ./reference_data/csvs/Beispielobjekte_2034.csv\n",
      "   OK\n",
      "------------\n",
      "File: ./reference_data/csvs/Beispielobjekte_2020.csv\n",
      "   OK\n",
      "------------\n",
      "File: ./reference_data/csvs/Beispielobjekte_2041.csv\n",
      "   OK\n",
      "------------\n",
      "File: ./reference_data/csvs/Beispielobjekte_2096.csv\n",
      "   OK\n",
      "------------\n",
      "File: ./reference_data/csvs/Beispielobjekte_2040.csv\n",
      "   OK\n",
      "------------\n",
      "File: ./reference_data/csvs/Beispielobjekte_2042.csv\n",
      "   OK\n",
      "------------\n",
      "File: ./reference_data/csvs/Beispielobjekte_2095.csv\n",
      "   OK\n",
      "------------\n",
      "File: ./reference_data/csvs/Beispielobjekte_2043.csv\n",
      "   OK\n",
      "------------\n"
     ]
    }
   ],
   "source": [
    "# iterate through each csv\n",
    "## First make sure that the length of the dataframe is equal to the number of unique 'Anlagen-ID's\n",
    "import glob\n",
    "geb_ref_csvs = glob.glob(\"./reference_data/csvs/*.csv\")\n",
    "for geb_csv in geb_ref_csvs:\n",
    "    df = pd.read_csv(geb_csv)\n",
    "    unique_anlagen_ids = df['Anlagen-ID'].unique()\n",
    "    print(f\"File: {geb_csv}\")\n",
    "    if len(unique_anlagen_ids) != len(df):\n",
    "        print(f\"   Number of unique Anlagen-IDs: {len(unique_anlagen_ids)}\")\n",
    "        print(f\"   Number of rows in the dataframe: {len(df)}\")\n",
    "        print(\"   Warning: The number of unique Anlagen-IDs does not match the number of rows in the dataframe.\")\n",
    "    else:\n",
    "        print(\"   OK\")\n",
    "    print(\"------------\")"
   ]
  },
  {
   "cell_type": "markdown",
   "id": "18a6e2f3",
   "metadata": {},
   "source": [
    "### Condition Respected\n",
    "## Now start with the the creation of list of dicts"
   ]
  },
  {
   "cell_type": "code",
   "execution_count": 9,
   "id": "16d917f2",
   "metadata": {},
   "outputs": [
    {
     "name": "stdout",
     "output_type": "stream",
     "text": [
      "Successfully saved Beispielobjekte_2104.json\n",
      "Successfully saved Beispielobjekte_2039.json\n",
      "Successfully saved Beispielobjekte_2038.json\n",
      "Successfully saved Beispielobjekte_2017.json\n",
      "Successfully saved Beispielobjekte_2028.json\n",
      "Successfully saved Beispielobjekte_2029.json\n",
      "Successfully saved Beispielobjekte_2024.json\n",
      "Successfully saved Beispielobjekte_2030.json\n",
      "Successfully saved Beispielobjekte_2031.json\n",
      "Successfully saved Beispielobjekte_2025.json\n",
      "Successfully saved Beispielobjekte_543.json\n",
      "Successfully saved Beispielobjekte_2033.json\n",
      "Successfully saved Beispielobjekte_2027.json\n",
      "Successfully saved Beispielobjekte_2026.json\n",
      "Successfully saved Beispielobjekte_2032.json\n",
      "Successfully saved Beispielobjekte_2036.json\n",
      "Successfully saved Beispielobjekte_2022.json\n",
      "Successfully saved Beispielobjekte_544.json\n",
      "Successfully saved Beispielobjekte_545.json\n",
      "Successfully saved Beispielobjekte_2023.json\n",
      "Successfully saved Beispielobjekte_2037.json\n",
      "Successfully saved Beispielobjekte_2021.json\n",
      "Successfully saved Beispielobjekte_2035.json\n",
      "Successfully saved Beispielobjekte_546.json\n",
      "Successfully saved Beispielobjekte_2034.json\n",
      "Successfully saved Beispielobjekte_2020.json\n",
      "Successfully saved Beispielobjekte_2041.json\n",
      "Successfully saved Beispielobjekte_2096.json\n",
      "Successfully saved Beispielobjekte_2040.json\n",
      "Successfully saved Beispielobjekte_2042.json\n",
      "Successfully saved Beispielobjekte_2095.json\n",
      "Successfully saved Beispielobjekte_2043.json\n"
     ]
    }
   ],
   "source": [
    "# iterate through each Gebäude and create a list of dicts for each Gebäude, and save it as JSON\n",
    "import json\n",
    "for geb_id in geb_ref_csvs:\n",
    "    df = pd.read_csv(geb_id)\n",
    "    anlagen_geb = {}\n",
    "    filter_for_anlagen = df[df['Anlagentyp'] == 'Anlage']\n",
    "    filter_for_bauteile = df[df['Anlagentyp'] == 'Bauteil']\n",
    "    categories = filter_for_anlagen['Kostengruppenbezeichnung'].unique()\n",
    "    for category in categories:\n",
    "        category_df = filter_for_anlagen[filter_for_anlagen['Kostengruppenbezeichnung'] == category]\n",
    "        anlagen_geb[category] = {'id': int(category_df['Kostengruppe'].unique()[0]), 'subcategories': []}\n",
    "        subcategories_id = category_df['Untergewerk'].unique()\n",
    "        for id in subcategories_id:\n",
    "            subcategory_id_df = category_df[category_df['Untergewerk'] == id]\n",
    "            anlagen_geb[category]['subcategories'].append({\n",
    "                int(id): []}\n",
    "                )\n",
    "            for subcategory in subcategory_id_df['AKS-Bezeichnung'].unique():\n",
    "                subcategory_df = subcategory_id_df[subcategory_id_df['AKS-Bezeichnung'] == subcategory]\n",
    "                anlagen_geb[category]['subcategories'][-1][int(id)].append({\n",
    "                    subcategory: list(subcategory_df['Anlagenname'].unique())}\n",
    "                )\n",
    "\n",
    "    # save the anlagen_geb dict as JSON\n",
    "    geb_name = geb_id.split(\"/\")[-1].replace(\".csv\", \"\")\n",
    "    with open(f\"./reference_data/jsons/{geb_name}.json\", \"w\") as json_file:\n",
    "        json.dump(anlagen_geb, json_file, indent=4, ensure_ascii=False)\n",
    "    print(f\"Successfully saved {geb_name}.json\")\n",
    "\n",
    "    \n",
    "\n",
    "\n",
    "    "
   ]
  },
  {
   "cell_type": "markdown",
   "id": "b62d3f86",
   "metadata": {},
   "source": [
    "### Create general Hierarchy of reference data"
   ]
  },
  {
   "cell_type": "code",
   "execution_count": 10,
   "id": "01326c5f",
   "metadata": {},
   "outputs": [
    {
     "name": "stdout",
     "output_type": "stream",
     "text": [
      "Successfully saved structure.json\n"
     ]
    }
   ],
   "source": [
    "anlagen_geb = {}\n",
    "df = reference.copy()\n",
    "filter_for_anlagen = df[df['Anlagentyp'] == 'Anlage']\n",
    "filter_for_bauteile = df[df['Anlagentyp'] == 'Bauteil']\n",
    "categories = filter_for_anlagen['Kostengruppenbezeichnung'].unique()\n",
    "for category in categories:\n",
    "    category_df = filter_for_anlagen[filter_for_anlagen['Kostengruppenbezeichnung'] == category]\n",
    "    anlagen_geb[category] = {'id': int(category_df['Kostengruppe'].unique()[0]), 'subcategories': []}\n",
    "    subcategories_id = category_df['Untergewerk'].unique()\n",
    "    for id in subcategories_id:\n",
    "        subcategory_id_df = category_df[category_df['Untergewerk'] == id]\n",
    "        anlagen_geb[category]['subcategories'].append({\n",
    "            int(id): []}\n",
    "            )\n",
    "        for subcategory in subcategory_id_df['AKS-Bezeichnung'].unique():\n",
    "            subcategory_df = subcategory_id_df[subcategory_id_df['AKS-Bezeichnung'] == subcategory]\n",
    "            anlagen_geb[category]['subcategories'][-1][int(id)].append({\n",
    "                subcategory: list(subcategory_df['Anlagenname'].unique())}\n",
    "            )\n",
    "\n",
    "# save the anlagen_geb dict as JSON\n",
    "with open(f\"./reference_data/structure.json\", \"w\") as json_file:\n",
    "    json.dump(anlagen_geb, json_file, indent=4, ensure_ascii=False)\n",
    "print(f\"Successfully saved structure.json\")"
   ]
  }
 ],
 "metadata": {
  "kernelspec": {
   "display_name": "ais_tech",
   "language": "python",
   "name": "python3"
  },
  "language_info": {
   "codemirror_mode": {
    "name": "ipython",
    "version": 3
   },
   "file_extension": ".py",
   "mimetype": "text/x-python",
   "name": "python",
   "nbconvert_exporter": "python",
   "pygments_lexer": "ipython3",
   "version": "3.11.13"
  }
 },
 "nbformat": 4,
 "nbformat_minor": 5
}
