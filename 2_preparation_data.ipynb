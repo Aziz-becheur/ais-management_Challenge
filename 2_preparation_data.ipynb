{
 "cells": [
  {
   "cell_type": "code",
   "execution_count": 1,
   "id": "fb1aa21c",
   "metadata": {},
   "outputs": [],
   "source": [
    "import pandas as pd"
   ]
  },
  {
   "cell_type": "code",
   "execution_count": 2,
   "id": "6f03755a",
   "metadata": {},
   "outputs": [],
   "source": [
    "# Load the Excel file\n",
    "kundendatei = pd.read_excel(\"./raw_data/Kundendatei.xlsx\", sheet_name=\"Kundenobjekte\")"
   ]
  },
  {
   "cell_type": "code",
   "execution_count": 3,
   "id": "d3649102",
   "metadata": {},
   "outputs": [
    {
     "name": "stdout",
     "output_type": "stream",
     "text": [
      "<class 'pandas.core.frame.DataFrame'>\n",
      "RangeIndex: 973 entries, 0 to 972\n",
      "Data columns (total 61 columns):\n",
      " #   Column                 Non-Null Count  Dtype  \n",
      "---  ------                 --------------  -----  \n",
      " 0   WirtEinh               973 non-null    int64  \n",
      " 1   EQ_übergeordnet        364 non-null    float64\n",
      " 2   Equipment              973 non-null    int64  \n",
      " 3   EQ-Bezeichnung         973 non-null    object \n",
      " 4   EQ-Klasse              973 non-null    int64  \n",
      " 5   EQ-Klasse-Bezeichnung  973 non-null    object \n",
      " 6   Gewerk                 973 non-null    object \n",
      " 7   Anlagenausprägung      973 non-null    object \n",
      " 8   EQ-Menge               973 non-null    int64  \n",
      " 9   EQ-Merkmal_001         506 non-null    object \n",
      " 10  EQ-Merkmal_002         321 non-null    object \n",
      " 11  EQ-Merkmal_003         627 non-null    object \n",
      " 12  EQ-Merkmal_004         681 non-null    object \n",
      " 13  EQ-Merkmal_005         419 non-null    object \n",
      " 14  EQ-Merkmal_006         378 non-null    object \n",
      " 15  EQ-Merkmal_007         230 non-null    object \n",
      " 16  EQ-Merkmal_008         154 non-null    object \n",
      " 17  EQ-Merkmal_009         122 non-null    object \n",
      " 18  EQ-Merkmal_010         104 non-null    object \n",
      " 19  EQ-Merkmal_011         94 non-null     object \n",
      " 20  EQ-Merkmal_012         30 non-null     object \n",
      " 21  EQ-Merkmal_013         24 non-null     object \n",
      " 22  EQ-Merkmal_014         86 non-null     object \n",
      " 23  EQ-Merkmal_015         80 non-null     object \n",
      " 24  EQ-Merkmal_016         43 non-null     object \n",
      " 25  EQ-Merkmal_017         14 non-null     object \n",
      " 26  EQ-Merkmal_018         53 non-null     object \n",
      " 27  EQ-Merkmal_019         20 non-null     object \n",
      " 28  EQ-Merkmal_020         65 non-null     object \n",
      " 29  EQ-Merkmal_021         50 non-null     object \n",
      " 30  EQ-Merkmal_022         24 non-null     object \n",
      " 31  EQ-Merkmal_023         26 non-null     object \n",
      " 32  EQ-Merkmal_024         51 non-null     object \n",
      " 33  EQ-Merkmal_025         49 non-null     object \n",
      " 34  EQ-Merkmal_026         8 non-null      object \n",
      " 35  EQ-Merkmal_027         40 non-null     object \n",
      " 36  EQ-Merkmal_028         42 non-null     object \n",
      " 37  EQ-Merkmal_029         4 non-null      object \n",
      " 38  EQ-Merkmal_030         1 non-null      object \n",
      " 39  EQ-Merkmal_031         0 non-null      float64\n",
      " 40  EQ-Merkmal_032         0 non-null      float64\n",
      " 41  EQ-Merkmal_033         1 non-null      object \n",
      " 42  EQ-Merkmal_034         0 non-null      float64\n",
      " 43  EQ-Merkmal_035         0 non-null      float64\n",
      " 44  EQ-Merkmal_036         1 non-null      object \n",
      " 45  EQ-Merkmal_037         1 non-null      object \n",
      " 46  EQ-Merkmal_038         1 non-null      object \n",
      " 47  EQ-Merkmal_039         0 non-null      float64\n",
      " 48  EQ-Merkmal_040         0 non-null      float64\n",
      " 49  EQ-Merkmal_041         0 non-null      float64\n",
      " 50  EQ-Merkmal_042         0 non-null      float64\n",
      " 51  EQ-Merkmal_043         0 non-null      float64\n",
      " 52  EQ-Merkmal_044         0 non-null      float64\n",
      " 53  EQ-Merkmal_045         0 non-null      float64\n",
      " 54  EQ-Merkmal_046         0 non-null      float64\n",
      " 55  EQ-Merkmal_047         0 non-null      float64\n",
      " 56  EQ-Merkmal_048         0 non-null      float64\n",
      " 57  EQ-Merkmal_049         0 non-null      float64\n",
      " 58  EQ-Merkmal_050         0 non-null      float64\n",
      " 59  EQ-Merkmal_051         0 non-null      float64\n",
      " 60  EQ-Merkmal_052         0 non-null      float64\n",
      "dtypes: float64(19), int64(4), object(38)\n",
      "memory usage: 463.8+ KB\n"
     ]
    }
   ],
   "source": [
    "kundendatei.info()  # Display information about the DataFrame"
   ]
  },
  {
   "cell_type": "code",
   "execution_count": 4,
   "id": "82c1b34d",
   "metadata": {},
   "outputs": [
    {
     "data": {
      "text/html": [
       "<div>\n",
       "<style scoped>\n",
       "    .dataframe tbody tr th:only-of-type {\n",
       "        vertical-align: middle;\n",
       "    }\n",
       "\n",
       "    .dataframe tbody tr th {\n",
       "        vertical-align: top;\n",
       "    }\n",
       "\n",
       "    .dataframe thead th {\n",
       "        text-align: right;\n",
       "    }\n",
       "</style>\n",
       "<table border=\"1\" class=\"dataframe\">\n",
       "  <thead>\n",
       "    <tr style=\"text-align: right;\">\n",
       "      <th></th>\n",
       "      <th>WirtEinh</th>\n",
       "      <th>EQ_übergeordnet</th>\n",
       "      <th>Equipment</th>\n",
       "      <th>EQ-Bezeichnung</th>\n",
       "      <th>EQ-Klasse</th>\n",
       "      <th>EQ-Klasse-Bezeichnung</th>\n",
       "      <th>Gewerk</th>\n",
       "      <th>Anlagenausprägung</th>\n",
       "      <th>EQ-Menge</th>\n",
       "      <th>EQ-Merkmal_001</th>\n",
       "      <th>...</th>\n",
       "      <th>EQ-Merkmal_043</th>\n",
       "      <th>EQ-Merkmal_044</th>\n",
       "      <th>EQ-Merkmal_045</th>\n",
       "      <th>EQ-Merkmal_046</th>\n",
       "      <th>EQ-Merkmal_047</th>\n",
       "      <th>EQ-Merkmal_048</th>\n",
       "      <th>EQ-Merkmal_049</th>\n",
       "      <th>EQ-Merkmal_050</th>\n",
       "      <th>EQ-Merkmal_051</th>\n",
       "      <th>EQ-Merkmal_052</th>\n",
       "    </tr>\n",
       "  </thead>\n",
       "  <tbody>\n",
       "    <tr>\n",
       "      <th>0</th>\n",
       "      <td>21083</td>\n",
       "      <td>NaN</td>\n",
       "      <td>1000005794</td>\n",
       "      <td>Schutzraumlüftung - Mitt.(Außer Betrieb)</td>\n",
       "      <td>31211</td>\n",
       "      <td>Lüftungsanlagen</td>\n",
       "      <td>RLT</td>\n",
       "      <td>Schutzraumlüft. ohne Sandfilt.</td>\n",
       "      <td>1</td>\n",
       "      <td>NaN</td>\n",
       "      <td>...</td>\n",
       "      <td>NaN</td>\n",
       "      <td>NaN</td>\n",
       "      <td>NaN</td>\n",
       "      <td>NaN</td>\n",
       "      <td>NaN</td>\n",
       "      <td>NaN</td>\n",
       "      <td>NaN</td>\n",
       "      <td>NaN</td>\n",
       "      <td>NaN</td>\n",
       "      <td>NaN</td>\n",
       "    </tr>\n",
       "    <tr>\n",
       "      <th>1</th>\n",
       "      <td>21083</td>\n",
       "      <td>NaN</td>\n",
       "      <td>1000005932</td>\n",
       "      <td>RLT Batterieraum alt - Mittelbau</td>\n",
       "      <td>31211</td>\n",
       "      <td>Lüftungsanlagen</td>\n",
       "      <td>RLT</td>\n",
       "      <td>Zu-/Abluftanlage</td>\n",
       "      <td>1</td>\n",
       "      <td>NaN</td>\n",
       "      <td>...</td>\n",
       "      <td>NaN</td>\n",
       "      <td>NaN</td>\n",
       "      <td>NaN</td>\n",
       "      <td>NaN</td>\n",
       "      <td>NaN</td>\n",
       "      <td>NaN</td>\n",
       "      <td>NaN</td>\n",
       "      <td>NaN</td>\n",
       "      <td>NaN</td>\n",
       "      <td>NaN</td>\n",
       "    </tr>\n",
       "    <tr>\n",
       "      <th>2</th>\n",
       "      <td>21083</td>\n",
       "      <td>NaN</td>\n",
       "      <td>1000005934</td>\n",
       "      <td>RLT Gleichr. alt - Mittelbau</td>\n",
       "      <td>31211</td>\n",
       "      <td>Lüftungsanlagen</td>\n",
       "      <td>RLT</td>\n",
       "      <td>Zu-/Abluftanlage</td>\n",
       "      <td>1</td>\n",
       "      <td>NaN</td>\n",
       "      <td>...</td>\n",
       "      <td>NaN</td>\n",
       "      <td>NaN</td>\n",
       "      <td>NaN</td>\n",
       "      <td>NaN</td>\n",
       "      <td>NaN</td>\n",
       "      <td>NaN</td>\n",
       "      <td>NaN</td>\n",
       "      <td>NaN</td>\n",
       "      <td>NaN</td>\n",
       "      <td>NaN</td>\n",
       "    </tr>\n",
       "    <tr>\n",
       "      <th>3</th>\n",
       "      <td>21083</td>\n",
       "      <td>NaN</td>\n",
       "      <td>1000025596</td>\n",
       "      <td>Gebäude-Blitzschutz-, Erdungsanl., Pot.</td>\n",
       "      <td>3330</td>\n",
       "      <td>Blitzschutz-/Erdungsanlage</td>\n",
       "      <td>Elektro Blitzschutz</td>\n",
       "      <td>Blitzschutz/Erdung Gebäude</td>\n",
       "      <td>1</td>\n",
       "      <td>Ableiter Anzahl aussen: 11</td>\n",
       "      <td>...</td>\n",
       "      <td>NaN</td>\n",
       "      <td>NaN</td>\n",
       "      <td>NaN</td>\n",
       "      <td>NaN</td>\n",
       "      <td>NaN</td>\n",
       "      <td>NaN</td>\n",
       "      <td>NaN</td>\n",
       "      <td>NaN</td>\n",
       "      <td>NaN</td>\n",
       "      <td>NaN</td>\n",
       "    </tr>\n",
       "    <tr>\n",
       "      <th>4</th>\n",
       "      <td>21083</td>\n",
       "      <td>NaN</td>\n",
       "      <td>1000026066</td>\n",
       "      <td>Beschallungs-/Sprechanlagen</td>\n",
       "      <td>3520</td>\n",
       "      <td>Elektroakustische Anlagen</td>\n",
       "      <td>Haustechn Einricht</td>\n",
       "      <td>Beschallungsanlage</td>\n",
       "      <td>1</td>\n",
       "      <td>NaN</td>\n",
       "      <td>...</td>\n",
       "      <td>NaN</td>\n",
       "      <td>NaN</td>\n",
       "      <td>NaN</td>\n",
       "      <td>NaN</td>\n",
       "      <td>NaN</td>\n",
       "      <td>NaN</td>\n",
       "      <td>NaN</td>\n",
       "      <td>NaN</td>\n",
       "      <td>NaN</td>\n",
       "      <td>NaN</td>\n",
       "    </tr>\n",
       "  </tbody>\n",
       "</table>\n",
       "<p>5 rows × 61 columns</p>\n",
       "</div>"
      ],
      "text/plain": [
       "   WirtEinh  EQ_übergeordnet   Equipment  \\\n",
       "0     21083              NaN  1000005794   \n",
       "1     21083              NaN  1000005932   \n",
       "2     21083              NaN  1000005934   \n",
       "3     21083              NaN  1000025596   \n",
       "4     21083              NaN  1000026066   \n",
       "\n",
       "                             EQ-Bezeichnung  EQ-Klasse  \\\n",
       "0  Schutzraumlüftung - Mitt.(Außer Betrieb)      31211   \n",
       "1          RLT Batterieraum alt - Mittelbau      31211   \n",
       "2              RLT Gleichr. alt - Mittelbau      31211   \n",
       "3   Gebäude-Blitzschutz-, Erdungsanl., Pot.       3330   \n",
       "4               Beschallungs-/Sprechanlagen       3520   \n",
       "\n",
       "        EQ-Klasse-Bezeichnung               Gewerk  \\\n",
       "0             Lüftungsanlagen                  RLT   \n",
       "1             Lüftungsanlagen                  RLT   \n",
       "2             Lüftungsanlagen                  RLT   \n",
       "3  Blitzschutz-/Erdungsanlage  Elektro Blitzschutz   \n",
       "4   Elektroakustische Anlagen   Haustechn Einricht   \n",
       "\n",
       "                Anlagenausprägung  EQ-Menge              EQ-Merkmal_001  ...  \\\n",
       "0  Schutzraumlüft. ohne Sandfilt.         1                         NaN  ...   \n",
       "1                Zu-/Abluftanlage         1                         NaN  ...   \n",
       "2                Zu-/Abluftanlage         1                         NaN  ...   \n",
       "3      Blitzschutz/Erdung Gebäude         1  Ableiter Anzahl aussen: 11  ...   \n",
       "4              Beschallungsanlage         1                         NaN  ...   \n",
       "\n",
       "  EQ-Merkmal_043 EQ-Merkmal_044 EQ-Merkmal_045 EQ-Merkmal_046 EQ-Merkmal_047  \\\n",
       "0            NaN            NaN            NaN            NaN            NaN   \n",
       "1            NaN            NaN            NaN            NaN            NaN   \n",
       "2            NaN            NaN            NaN            NaN            NaN   \n",
       "3            NaN            NaN            NaN            NaN            NaN   \n",
       "4            NaN            NaN            NaN            NaN            NaN   \n",
       "\n",
       "  EQ-Merkmal_048 EQ-Merkmal_049 EQ-Merkmal_050 EQ-Merkmal_051 EQ-Merkmal_052  \n",
       "0            NaN            NaN            NaN            NaN            NaN  \n",
       "1            NaN            NaN            NaN            NaN            NaN  \n",
       "2            NaN            NaN            NaN            NaN            NaN  \n",
       "3            NaN            NaN            NaN            NaN            NaN  \n",
       "4            NaN            NaN            NaN            NaN            NaN  \n",
       "\n",
       "[5 rows x 61 columns]"
      ]
     },
     "execution_count": 4,
     "metadata": {},
     "output_type": "execute_result"
    }
   ],
   "source": [
    "kundendatei.head()  # Display the first few rows of the DataFrame"
   ]
  },
  {
   "cell_type": "markdown",
   "id": "8f144ce2",
   "metadata": {},
   "source": [
    "## Clean the data same as reference:\n",
    "\n",
    "columns that can be used as organizers/classifiers/categorizers are:\n",
    "\n",
    "- Anlagenausprägung\n",
    "- Gewerk\n",
    "- EQ-Klasse-Bezeichnung\n",
    "- EQ-Klasse\n",
    "- EQ-Bezeichnung"
   ]
  },
  {
   "cell_type": "code",
   "execution_count": 5,
   "id": "ff29989f",
   "metadata": {},
   "outputs": [
    {
     "data": {
      "image/png": "[encoded data removed]",
      "text/plain": [
       "<Figure size 640x480 with 1 Axes>"
      ]
     },
     "metadata": {},
     "output_type": "display_data"
    }
   ],
   "source": [
    "import matplotlib.pyplot as plt\n",
    "# Plot the number of unique values for columns Anlagenausprägung, Gewerk, EQ-Klasse-Bezeichnung, EQ-Klasse, EQ-Bezeichnung\n",
    "categorizers = kundendatei[['Anlagenausprägung', 'Gewerk', 'EQ-Klasse-Bezeichnung', 'EQ-Klasse', 'EQ-Bezeichnung']]\n",
    "categorizers.nunique().plot(kind='bar')\n",
    "plt.title(\"Unique Values in Each Column\")\n",
    "plt.xlabel(\"Columns\")\n",
    "plt.ylabel(\"Number of Unique Values\")\n",
    "plt.show()"
   ]
  },
  {
   "cell_type": "code",
   "execution_count": 6,
   "id": "14075847",
   "metadata": {},
   "outputs": [
    {
     "data": {
      "text/plain": [
       "True"
      ]
     },
     "execution_count": 6,
     "metadata": {},
     "output_type": "execute_result"
    }
   ],
   "source": [
    "len(categorizers['EQ-Klasse']) == len(categorizers['EQ-Klasse-Bezeichnung'])  # Check if EQ-Klasse and EQ-Klasse-Bezeichnung have the same number of unique values"
   ]
  },
  {
   "cell_type": "code",
   "execution_count": 7,
   "id": "9971d57e",
   "metadata": {},
   "outputs": [
    {
     "name": "stdout",
     "output_type": "stream",
     "text": [
      "Unique values in 'Gewerk': ['RLT' 'Elektro Blitzschutz' 'Haustechn Einricht' 'Sanitär' 'Elektro NSP'\n",
      " 'Elektro' 'BuES, GLT, IZS' 'Brandschutz' 'Kältetechnik' 'Heizung'\n",
      " 'Türen und Tore' 'Aufzug' 'Kältetechnik mit Hygiene' 'GEV'\n",
      " 'RLT mit Hygiene' 'DLÜA' 'Elektro Ladesäulen']\n",
      "Number of unique values in 'Gewerk': 17\n"
     ]
    }
   ],
   "source": [
    "# check values of Gewerk:\n",
    "print(\"Unique values in 'Gewerk':\", kundendatei['Gewerk'].unique())\n",
    "print(\"Number of unique values in 'Gewerk':\", kundendatei['Gewerk'].nunique())\n"
   ]
  },
  {
   "cell_type": "code",
   "execution_count": 8,
   "id": "f4130ee0",
   "metadata": {},
   "outputs": [
    {
     "name": "stdout",
     "output_type": "stream",
     "text": [
      "Unique values in 'Gewerk' after normalization: ['RLT' 'Elektro' 'Haustechn Einricht' 'Sanitär' 'BuES, GLT, IZS'\n",
      " 'Brandschutz' 'Kältetechnik' 'Heizung' 'Türen und Tore' 'Aufzug' 'GEV'\n",
      " 'DLÜA']\n",
      "Number of unique values in 'Gewerk' after normalization: 12\n"
     ]
    }
   ],
   "source": [
    "# a lot of repetitions likke Elektro Blitzschutz, etc.\n",
    "# normalize Gewerk values so that Elektro Blitzschutz becomes Elektro, Kältetechnik mit Hygiene becomes Kältetechnik, etc. Do it one by one, no splitting.\n",
    "kundendatei['Gewerk'] = kundendatei['Gewerk'].replace({\n",
    "    'Elektro Blitzschutz': 'Elektro',\n",
    "    'Elektro NSP': 'Elektro',\n",
    "    'Elektro Ladesäulen': 'Elektro',\n",
    "    'RLT mit Hygiene': 'RLT',\n",
    "    'Kältetechnik mit Hygiene': 'Kältetechnik',\n",
    "})\n",
    "# check again\n",
    "print(\"Unique values in 'Gewerk' after normalization:\", kundendatei['Gewerk'].unique())\n",
    "print(\"Number of unique values in 'Gewerk' after normalization:\", kundendatei['Gewerk'].nunique())\n",
    "\n"
   ]
  },
  {
   "cell_type": "code",
   "execution_count": 9,
   "id": "c9dd7ad5",
   "metadata": {},
   "outputs": [
    {
     "name": "stdout",
     "output_type": "stream",
     "text": [
      "Number of unique buildings: 7\n",
      "Unique buildings: [21083 28580 22225 30009 18925 15859 26287]\n"
     ]
    }
   ],
   "source": [
    "# see how many gebäude there are\n",
    "gebs = kundendatei['WirtEinh'].unique()\n",
    "print(f\"Number of unique buildings: {len(gebs)}\")\n",
    "print(\"Unique buildings:\", gebs)"
   ]
  },
  {
   "cell_type": "code",
   "execution_count": 10,
   "id": "8c3963ae",
   "metadata": {},
   "outputs": [
    {
     "name": "stdout",
     "output_type": "stream",
     "text": [
      "Saved data for 21083 to building_21083.csv\n",
      "Saved data for 28580 to building_28580.csv\n",
      "Saved data for 22225 to building_22225.csv\n",
      "Saved data for 30009 to building_30009.csv\n",
      "Saved data for 18925 to building_18925.csv\n",
      "Saved data for 15859 to building_15859.csv\n",
      "Saved data for 26287 to building_26287.csv\n"
     ]
    }
   ],
   "source": [
    "for geb in gebs:\n",
    "    geb_df = kundendatei[kundendatei['WirtEinh'] == geb]\n",
    "    geb_df.to_csv(f\"./customer_data/csvs/building_{geb}.csv\", index=False)\n",
    "    print(f\"Saved data for {geb} to building_{geb}.csv\")"
   ]
  },
  {
   "cell_type": "markdown",
   "id": "9c9ea715",
   "metadata": {},
   "source": [
    "Categorization should be then based on this sequence:\n",
    "\n",
    "Gewerk > EQ-Klasse-Bezeichnung (Corresponding ID from EQ-Klasse) > Anlagenausprägung > Anlagen > Bauteile.\n",
    "\n",
    "Each anlage will be recognized by if the row HAS a EQ_übergeordnet value or not."
   ]
  },
  {
   "cell_type": "code",
   "execution_count": 11,
   "id": "d0353808",
   "metadata": {},
   "outputs": [
    {
     "name": "stdout",
     "output_type": "stream",
     "text": [
      "File: ./customer_data/csvs/building_28580.csv\n",
      "   OK\n",
      "----------\n",
      "File: ./customer_data/csvs/building_30009.csv\n",
      "   OK\n",
      "----------\n",
      "File: ./customer_data/csvs/building_26287.csv\n",
      "   OK\n",
      "----------\n",
      "File: ./customer_data/csvs/building_22225.csv\n",
      "   OK\n",
      "----------\n",
      "File: ./customer_data/csvs/building_15859.csv\n",
      "   OK\n",
      "----------\n",
      "File: ./customer_data/csvs/building_21083.csv\n",
      "   OK\n",
      "----------\n",
      "File: ./customer_data/csvs/building_18925.csv\n",
      "   OK\n",
      "----------\n"
     ]
    }
   ],
   "source": [
    "# iterate through each csv\n",
    "## make sure that the length of the dataframe is equal to the number of unique values in Equipment\n",
    "\n",
    "import glob\n",
    "geb_cs_csvs = glob.glob(\"./customer_data/csvs/*.csv\")\n",
    "for csv_file in geb_cs_csvs:\n",
    "    df = pd.read_csv(csv_file)\n",
    "    unique_equipments = df['Equipment'].unique()\n",
    "    print(f\"File: {csv_file}\")\n",
    "    if len(unique_equipments) != len(df):\n",
    "        print(f\"   Number of unique Anlagen/Equipments: {len(unique_equipments)}\")\n",
    "        print(f\"   Number of rows in the DataFrame: {len(df)}\")\n",
    "        print(\"   Warning: The lengths are not equal!\")\n",
    "    else:\n",
    "        print(\"   OK\")\n",
    "    print(\"----------\")"
   ]
  },
  {
   "cell_type": "markdown",
   "id": "8bb33671",
   "metadata": {},
   "source": [
    "### Create general Hierarchy of the customer data"
   ]
  },
  {
   "cell_type": "code",
   "execution_count": 13,
   "id": "1e6d9919",
   "metadata": {},
   "outputs": [
    {
     "name": "stdout",
     "output_type": "stream",
     "text": [
      "Processing ./customer_data/csvs/building_28580.csv...\n",
      "Processing ./customer_data/csvs/building_30009.csv...\n",
      "Processing ./customer_data/csvs/building_26287.csv...\n",
      "Processing ./customer_data/csvs/building_22225.csv...\n",
      "Processing ./customer_data/csvs/building_15859.csv...\n",
      "Processing ./customer_data/csvs/building_21083.csv...\n",
      "Processing ./customer_data/csvs/building_18925.csv...\n"
     ]
    }
   ],
   "source": [
    "# iterate through each Gebäude and create a list of dicts, save it as JSON\n",
    "import json\n",
    "for geb in geb_cs_csvs:\n",
    "    df = pd.read_csv(geb)\n",
    "    print(f\"Processing {geb}...\")\n",
    "    anlagen_geb = {}\n",
    "    filter_for_anlagen = df[df['EQ_übergeordnet'].isna()]\n",
    "    filter_for_bauteile = df[df['EQ_übergeordnet'].notna()]\n",
    "    categories = filter_for_anlagen['Gewerk'].unique()\n",
    "    for category in categories:\n",
    "        category_df = filter_for_anlagen[filter_for_anlagen['Gewerk'] == category]\n",
    "        anlagen_geb[category] = {'id': None, 'subcategories': []}\n",
    "        subcategories_id = category_df['EQ-Klasse'].unique()\n",
    "        for id in subcategories_id:\n",
    "            subcategory_id_df = category_df[category_df['EQ-Klasse'] == id]\n",
    "            anlagen_geb[category]['subcategories'].append({\n",
    "                int(id): []}\n",
    "                )\n",
    "            for subcategory in subcategory_id_df['EQ-Klasse-Bezeichnung'].unique():\n",
    "                subcategory_df = subcategory_id_df[subcategory_id_df['EQ-Klasse-Bezeichnung'] == subcategory]\n",
    "                anlagen_geb[category]['subcategories'][-1][int(id)] = {\n",
    "                    subcategory: list(subcategory_df['Anlagenausprägung'].unique())\n",
    "                }\n",
    "\n",
    "    # Save the anlagen_geb dictionary to a JSON file\n",
    "    with open(f\"./customer_data/jsons/anlagen_geb_{geb.split('/')[-1].replace('.csv', '.json')}\", 'w') as json_file:\n",
    "        json.dump(anlagen_geb, json_file, indent=4, ensure_ascii=False)"
   ]
  },
  {
   "cell_type": "code",
   "execution_count": 14,
   "id": "00736c11",
   "metadata": {},
   "outputs": [],
   "source": [
    "# iterate through each Gebäude and create a list of dicts, save it as JSON\n",
    "df = kundendatei.copy()  # Use the original DataFrame for processing\n",
    "anlagen_geb = {}\n",
    "filter_for_anlagen = df[df['EQ_übergeordnet'].isna()]\n",
    "filter_for_bauteile = df[df['EQ_übergeordnet'].notna()]\n",
    "categories = filter_for_anlagen['Gewerk'].unique()\n",
    "for category in categories:\n",
    "    category_df = filter_for_anlagen[filter_for_anlagen['Gewerk'] == category]\n",
    "    anlagen_geb[category] = {'id': None, 'subcategories': []}\n",
    "    subcategories_id = category_df['EQ-Klasse'].unique()\n",
    "    for id in subcategories_id:\n",
    "        subcategory_id_df = category_df[category_df['EQ-Klasse'] == id]\n",
    "        anlagen_geb[category]['subcategories'].append({\n",
    "            int(id): []}\n",
    "            )\n",
    "        for subcategory in subcategory_id_df['EQ-Klasse-Bezeichnung'].unique():\n",
    "            subcategory_df = subcategory_id_df[subcategory_id_df['EQ-Klasse-Bezeichnung'] == subcategory]\n",
    "            anlagen_geb[category]['subcategories'][-1][int(id)] = {\n",
    "                subcategory: list(subcategory_df['Anlagenausprägung'].unique())\n",
    "            }\n",
    "\n",
    "# Save the anlagen_geb dictionary to a JSON file\n",
    "with open(f\"./customer_data/structure.json\", 'w') as json_file:\n",
    "    json.dump(anlagen_geb, json_file, indent=4, ensure_ascii=False)"
   ]
  },
  {
   "cell_type": "code",
   "execution_count": null,
   "id": "6ca6c946",
   "metadata": {},
   "outputs": [],
   "source": []
  }
 ],
 "metadata": {
  "kernelspec": {
   "display_name": "ais_tech",
   "language": "python",
   "name": "python3"
  },
  "language_info": {
   "codemirror_mode": {
    "name": "ipython",
    "version": 3
   },
   "file_extension": ".py",
   "mimetype": "text/x-python",
   "name": "python",
   "nbconvert_exporter": "python",
   "pygments_lexer": "ipython3",
   "version": "3.11.13"
  }
 },
 "nbformat": 4,
 "nbformat_minor": 5
}
